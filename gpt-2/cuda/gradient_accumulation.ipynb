{
 "cells": [
  {
   "cell_type": "code",
   "execution_count": 1,
   "metadata": {},
   "outputs": [
    {
     "name": "stdout",
     "output_type": "stream",
     "text": [
      "tensor([-0.2537, -0.0825,  0.0240,  0.1384,  0.0733, -0.0872, -0.0494, -0.2356,\n",
      "        -0.3026,  0.0435])\n"
     ]
    }
   ],
   "source": [
    "import torch \n",
    "\n",
    "# super simple little MLP\n",
    "net = torch.nn.Sequential(\n",
    "    torch.nn.Linear(16, 32),\n",
    "    torch.nn.GELU(),\n",
    "    torch.nn.Linear(32, 1)\n",
    ")\n",
    "torch.random.manual_seed(42)\n",
    "x = torch.randn(4, 16)\n",
    "y = torch.randn(4, 1)\n",
    "net.zero_grad()\n",
    "yhat = net(x)\n",
    "loss = torch.nn.functional.mse_loss(yhat, y)\n",
    "loss.backward()\n",
    "print(net[0].weight.grad.view(-1)[:10])\n",
    "\n",
    "# the loss objective here is (due to reduction='mean' in mse_loss)\n",
    "# L = 1/4 * sum_i (yhat_i - y_i)^2\n",
    "# = 1/4 [\n",
    "#        (y[0] -yhat[0])**2 +\n",
    "#        (y[1] -yhat[1])**2 +\n",
    "#        (y[2] -yhat[2])**2 +\n",
    "#        (y[3] -yhat[3])**2\n",
    "# ]\n",
    "# NOTE: 1/4 ! "
   ]
  },
  {
   "cell_type": "code",
   "execution_count": 5,
   "metadata": {},
   "outputs": [
    {
     "name": "stdout",
     "output_type": "stream",
     "text": [
      "tensor([-1.0148, -0.3299,  0.0961,  0.5536,  0.2931, -0.3488, -0.1977, -0.9425,\n",
      "        -1.2104,  0.1740])\n"
     ]
    }
   ],
   "source": [
    "# now let's do it with grad_accum_steps of 4, and B=1\n",
    "# the loss objective here is different because\n",
    "# accumulation in gradient <---> SUM in loss\n",
    "# i.e. we instead get:\n",
    "# L0 = (y[0] -yhat[0])**2\n",
    "# L1 = (y[1] -yhat[1])**2\n",
    "# L2 = (y[2] -yhat[2])**2\n",
    "# L3 = (y[3] -yhat[3])**2\n",
    "# L = L0 + L1 + L2 + L3\n",
    "# NOTE: the \"normalizer\" of 1/4 is lost\n",
    "net.zero_grad()\n",
    "for i in range(4):\n",
    "    yhat = net(x[i])\n",
    "    loss = torch.nn.functional.mse_loss(yhat, y[i])\n",
    "    loss.backward()\n",
    "    \n",
    "print(net[0].weight.grad.view(-1)[:10])"
   ]
  },
  {
   "cell_type": "code",
   "execution_count": 7,
   "metadata": {},
   "outputs": [
    {
     "name": "stdout",
     "output_type": "stream",
     "text": [
      "tensor([-0.2537, -0.0825,  0.0240,  0.1384,  0.0733, -0.0872, -0.0494, -0.2356,\n",
      "        -0.3026,  0.0435])\n"
     ]
    }
   ],
   "source": [
    "# now let's do it with grad_accum_steps of 4, and B=1\n",
    "# the loss objective here is different because\n",
    "# accumulation in gradient <---> SUM in loss\n",
    "# i.e. we instead get:\n",
    "# L0 = 1/4 (y[0] -yhat[0])**2\n",
    "# L1 = 1/4 (y[1] -yhat[1])**2\n",
    "# L2 = 1/4 (y[2] -yhat[2])**2\n",
    "# L3 = 1/4 (y[3] -yhat[3])**2\n",
    "# L = L0 + L1 + L2 + L3\n",
    "# NOTE: the \"normalizer\" of 1/4 is inside every of the components\n",
    "net.zero_grad()\n",
    "for i in range(4):\n",
    "    yhat = net(x[i])\n",
    "    loss = torch.nn.functional.mse_loss(yhat, y[i])\n",
    "    loss = loss / 4 # <-- this is the \"normalizer\"\n",
    "    loss.backward()\n",
    "    \n",
    "print(net[0].weight.grad.view(-1)[:10])"
   ]
  }
 ],
 "metadata": {
  "kernelspec": {
   "display_name": "gpt3.12",
   "language": "python",
   "name": "python3"
  },
  "language_info": {
   "codemirror_mode": {
    "name": "ipython",
    "version": 3
   },
   "file_extension": ".py",
   "mimetype": "text/x-python",
   "name": "python",
   "nbconvert_exporter": "python",
   "pygments_lexer": "ipython3",
   "version": "3.12.5"
  }
 },
 "nbformat": 4,
 "nbformat_minor": 2
}
