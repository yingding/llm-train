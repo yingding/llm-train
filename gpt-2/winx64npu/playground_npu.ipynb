{
 "cells": [
  {
   "cell_type": "code",
   "execution_count": 1,
   "metadata": {},
   "outputs": [
    {
     "name": "stdout",
     "output_type": "stream",
     "text": [
      "env: TORCH_LOGS=\"help\"\n"
     ]
    }
   ],
   "source": [
    "%env TORCH_LOGS=\"help\"\n",
    "# %env TORCH_LOGS=\"info\""
   ]
  },
  {
   "cell_type": "code",
   "execution_count": 2,
   "metadata": {},
   "outputs": [
    {
     "name": "stdout",
     "output_type": "stream",
     "text": [
      "env: TORCHDYNAMO_VERBOSE=1\n"
     ]
    }
   ],
   "source": [
    "%env TORCHDYNAMO_VERBOSE=1\n",
    "# %env TORCH_LOGS=\"+dynamo\""
   ]
  },
  {
   "cell_type": "code",
   "execution_count": 3,
   "metadata": {},
   "outputs": [
    {
     "ename": "ValueError",
     "evalue": "\nInvalid log settings: \"help\", must be a comma separated list of fully\nqualified module names, registered log names or registered artifact names.\nFor more info on various settings, try TORCH_LOGS=\"help\"\nValid settings:\nall, dynamo, fake_tensor, aot, autograd, inductor, dynamic, torch, distributed, c10d, ddp, pp, fsdp, dtensor, onnx, export, ddp_graphs, sym_node, fusion, overlap, post_grad_graphs, cudagraph_static_inputs, cudagraphs, trace_call, graph_code, output_code, guards, aot_joint_graph, compiled_autograd, compiled_autograd_verbose, loop_ordering, graph_breaks, bytecode, recompiles, onnx_diagnostics, verbose_guards, kernel_code, not_implemented, aot_graphs_effects, aot_graphs, trace_bytecode, trace_shape_events, graph_sizes, trace_source, schedule, perf_hints, benchmarking, recompiles_verbose, custom_format_test_artifact, graph\n",
     "output_type": "error",
     "traceback": [
      "\u001b[0;31m---------------------------------------------------------------------------\u001b[0m",
      "\u001b[0;31mValueError\u001b[0m                                Traceback (most recent call last)",
      "Cell \u001b[0;32mIn[3], line 1\u001b[0m\n\u001b[0;32m----> 1\u001b[0m \u001b[38;5;28;01mfrom\u001b[39;00m\u001b[38;5;250m \u001b[39m\u001b[38;5;21;01mintel_npu_acceleration_library\u001b[39;00m\u001b[38;5;21;01m.\u001b[39;00m\u001b[38;5;21;01mbackend\u001b[39;00m\u001b[38;5;250m \u001b[39m\u001b[38;5;28;01mimport\u001b[39;00m MatMul\n\u001b[1;32m      2\u001b[0m \u001b[38;5;28;01mimport\u001b[39;00m\u001b[38;5;250m \u001b[39m\u001b[38;5;21;01mnumpy\u001b[39;00m\u001b[38;5;250m \u001b[39m\u001b[38;5;28;01mas\u001b[39;00m\u001b[38;5;250m \u001b[39m\u001b[38;5;21;01mnp\u001b[39;00m\n\u001b[1;32m      5\u001b[0m \u001b[38;5;28;01mdef\u001b[39;00m\u001b[38;5;250m \u001b[39m\u001b[38;5;21mrun_matmul\u001b[39m(inC, outC, batch):\n\u001b[1;32m      6\u001b[0m \n\u001b[1;32m      7\u001b[0m     \u001b[38;5;66;03m# Create both inputs\u001b[39;00m\n",
      "File \u001b[0;32m/mnt/c/Users/yingdingwang/Documents/VENV/gpt3.12wsl/lib/python3.12/site-packages/intel_npu_acceleration_library/__init__.py:6\u001b[0m\n\u001b[1;32m      1\u001b[0m \u001b[38;5;66;03m#\u001b[39;00m\n\u001b[1;32m      2\u001b[0m \u001b[38;5;66;03m# Copyright © 2024 Intel Corporation\u001b[39;00m\n\u001b[1;32m      3\u001b[0m \u001b[38;5;66;03m# SPDX-License-Identifier: Apache 2.0\u001b[39;00m\n\u001b[1;32m      4\u001b[0m \u001b[38;5;66;03m#\u001b[39;00m\n\u001b[0;32m----> 6\u001b[0m \u001b[38;5;28;01mfrom\u001b[39;00m\u001b[38;5;250m \u001b[39m\u001b[38;5;21;01m.\u001b[39;00m\u001b[38;5;21;01mcompiler\u001b[39;00m\u001b[38;5;250m \u001b[39m\u001b[38;5;28;01mimport\u001b[39;00m \u001b[38;5;28mcompile\u001b[39m\n\u001b[1;32m      7\u001b[0m \u001b[38;5;28;01mfrom\u001b[39;00m\u001b[38;5;250m \u001b[39m\u001b[38;5;21;01m.\u001b[39;00m\u001b[38;5;21;01mdtypes\u001b[39;00m\u001b[38;5;250m \u001b[39m\u001b[38;5;28;01mimport\u001b[39;00m int4, int8, float16\n\u001b[1;32m      8\u001b[0m \u001b[38;5;28;01mfrom\u001b[39;00m\u001b[38;5;250m \u001b[39m\u001b[38;5;21;01m.\u001b[39;00m\u001b[38;5;21;01m_version\u001b[39;00m\u001b[38;5;250m \u001b[39m\u001b[38;5;28;01mimport\u001b[39;00m __version__\n",
      "File \u001b[0;32m/mnt/c/Users/yingdingwang/Documents/VENV/gpt3.12wsl/lib/python3.12/site-packages/intel_npu_acceleration_library/compiler.py:6\u001b[0m\n\u001b[1;32m      1\u001b[0m \u001b[38;5;66;03m#\u001b[39;00m\n\u001b[1;32m      2\u001b[0m \u001b[38;5;66;03m# Copyright © 2024 Intel Corporation\u001b[39;00m\n\u001b[1;32m      3\u001b[0m \u001b[38;5;66;03m# SPDX-License-Identifier: Apache 2.0\u001b[39;00m\n\u001b[1;32m      4\u001b[0m \u001b[38;5;66;03m#\u001b[39;00m\n\u001b[0;32m----> 6\u001b[0m \u001b[38;5;28;01mfrom\u001b[39;00m\u001b[38;5;250m \u001b[39m\u001b[38;5;21;01mintel_npu_acceleration_library\u001b[39;00m\u001b[38;5;21;01m.\u001b[39;00m\u001b[38;5;21;01moptimizations\u001b[39;00m\u001b[38;5;250m \u001b[39m\u001b[38;5;28;01mimport\u001b[39;00m horizontal_fusion_linear\n\u001b[1;32m      7\u001b[0m \u001b[38;5;28;01mfrom\u001b[39;00m\u001b[38;5;250m \u001b[39m\u001b[38;5;21;01mtransformers\u001b[39;00m\u001b[38;5;21;01m.\u001b[39;00m\u001b[38;5;21;01mmodels\u001b[39;00m\u001b[38;5;21;01m.\u001b[39;00m\u001b[38;5;21;01mllama\u001b[39;00m\u001b[38;5;21;01m.\u001b[39;00m\u001b[38;5;21;01mmodeling_llama\u001b[39;00m\u001b[38;5;250m \u001b[39m\u001b[38;5;28;01mimport\u001b[39;00m LlamaMLP, LlamaAttention\n\u001b[1;32m      8\u001b[0m \u001b[38;5;28;01mfrom\u001b[39;00m\u001b[38;5;250m \u001b[39m\u001b[38;5;21;01mtransformers\u001b[39;00m\u001b[38;5;21;01m.\u001b[39;00m\u001b[38;5;21;01mmodels\u001b[39;00m\u001b[38;5;21;01m.\u001b[39;00m\u001b[38;5;21;01mgemma\u001b[39;00m\u001b[38;5;21;01m.\u001b[39;00m\u001b[38;5;21;01mmodeling_gemma\u001b[39;00m\u001b[38;5;250m \u001b[39m\u001b[38;5;28;01mimport\u001b[39;00m GemmaMLP, GemmaAttention\n",
      "File \u001b[0;32m/mnt/c/Users/yingdingwang/Documents/VENV/gpt3.12wsl/lib/python3.12/site-packages/intel_npu_acceleration_library/optimizations.py:6\u001b[0m\n\u001b[1;32m      1\u001b[0m \u001b[38;5;66;03m#\u001b[39;00m\n\u001b[1;32m      2\u001b[0m \u001b[38;5;66;03m# Copyright © 2024 Intel Corporation\u001b[39;00m\n\u001b[1;32m      3\u001b[0m \u001b[38;5;66;03m# SPDX-License-Identifier: Apache 2.0\u001b[39;00m\n\u001b[1;32m      4\u001b[0m \u001b[38;5;66;03m#\u001b[39;00m\n\u001b[1;32m      5\u001b[0m \u001b[38;5;28;01mfrom\u001b[39;00m\u001b[38;5;250m \u001b[39m\u001b[38;5;21;01mtyping\u001b[39;00m\u001b[38;5;250m \u001b[39m\u001b[38;5;28;01mimport\u001b[39;00m Dict, List, Any\n\u001b[0;32m----> 6\u001b[0m \u001b[38;5;28;01mimport\u001b[39;00m\u001b[38;5;250m \u001b[39m\u001b[38;5;21;01mtorch\u001b[39;00m\u001b[38;5;21;01m.\u001b[39;00m\u001b[38;5;21;01mnn\u001b[39;00m\u001b[38;5;250m \u001b[39m\u001b[38;5;28;01mas\u001b[39;00m\u001b[38;5;250m \u001b[39m\u001b[38;5;21;01mnn\u001b[39;00m\n\u001b[1;32m      7\u001b[0m \u001b[38;5;28;01mimport\u001b[39;00m\u001b[38;5;250m \u001b[39m\u001b[38;5;21;01mtorch\u001b[39;00m\u001b[38;5;21;01m.\u001b[39;00m\u001b[38;5;21;01mfx\u001b[39;00m\u001b[38;5;250m \u001b[39m\u001b[38;5;28;01mas\u001b[39;00m\u001b[38;5;250m \u001b[39m\u001b[38;5;21;01mfx\u001b[39;00m\n\u001b[1;32m      8\u001b[0m \u001b[38;5;28;01mimport\u001b[39;00m\u001b[38;5;250m \u001b[39m\u001b[38;5;21;01moperator\u001b[39;00m\n",
      "File \u001b[0;32m/mnt/c/Users/yingdingwang/Documents/VENV/gpt3.12wsl/lib/python3.12/site-packages/torch/__init__.py:2618\u001b[0m\n\u001b[1;32m   2612\u001b[0m     torch\u001b[38;5;241m.\u001b[39msym_constrain_range_for_size(symbol, \u001b[38;5;28mmin\u001b[39m\u001b[38;5;241m=\u001b[39m\u001b[38;5;28mmin\u001b[39m, \u001b[38;5;28mmax\u001b[39m\u001b[38;5;241m=\u001b[39m\u001b[38;5;28mmax\u001b[39m)\n\u001b[1;32m   2615\u001b[0m \u001b[38;5;28;01mfrom\u001b[39;00m\u001b[38;5;250m \u001b[39m\u001b[38;5;21;01mtorch\u001b[39;00m\u001b[38;5;250m \u001b[39m\u001b[38;5;28;01mimport\u001b[39;00m _logging\n\u001b[0;32m-> 2618\u001b[0m \u001b[43m_logging\u001b[49m\u001b[38;5;241;43m.\u001b[39;49m\u001b[43m_init_logs\u001b[49m\u001b[43m(\u001b[49m\u001b[43m)\u001b[49m\n\u001b[1;32m   2621\u001b[0m \u001b[38;5;28;01mdef\u001b[39;00m\u001b[38;5;250m \u001b[39m\u001b[38;5;21m_import_device_backends\u001b[39m():\n\u001b[1;32m   2622\u001b[0m \u001b[38;5;250m    \u001b[39m\u001b[38;5;124;03m\"\"\"\u001b[39;00m\n\u001b[1;32m   2623\u001b[0m \u001b[38;5;124;03m    Leverage the Python plugin mechanism to load out-of-the-tree device extensions.\u001b[39;00m\n\u001b[1;32m   2624\u001b[0m \u001b[38;5;124;03m    See this RFC: https://github.com/pytorch/pytorch/issues/122468\u001b[39;00m\n\u001b[1;32m   2625\u001b[0m \u001b[38;5;124;03m    \"\"\"\u001b[39;00m\n",
      "File \u001b[0;32m/mnt/c/Users/yingdingwang/Documents/VENV/gpt3.12wsl/lib/python3.12/site-packages/torch/_logging/_internal.py:926\u001b[0m, in \u001b[0;36m_init_logs\u001b[0;34m(log_file_name)\u001b[0m\n\u001b[1;32m    924\u001b[0m \u001b[38;5;28;01mdef\u001b[39;00m\u001b[38;5;250m \u001b[39m\u001b[38;5;21m_init_logs\u001b[39m(log_file_name\u001b[38;5;241m=\u001b[39m\u001b[38;5;28;01mNone\u001b[39;00m):\n\u001b[1;32m    925\u001b[0m     _reset_logs()\n\u001b[0;32m--> 926\u001b[0m     \u001b[43m_update_log_state_from_env\u001b[49m\u001b[43m(\u001b[49m\u001b[43m)\u001b[49m\n\u001b[1;32m    928\u001b[0m     out \u001b[38;5;241m=\u001b[39m os\u001b[38;5;241m.\u001b[39menviron\u001b[38;5;241m.\u001b[39mget(LOG_OUT_ENV_VAR, \u001b[38;5;28;01mNone\u001b[39;00m)\n\u001b[1;32m    929\u001b[0m     \u001b[38;5;28;01mif\u001b[39;00m out \u001b[38;5;129;01mis\u001b[39;00m \u001b[38;5;129;01mnot\u001b[39;00m \u001b[38;5;28;01mNone\u001b[39;00m:\n",
      "File \u001b[0;32m/mnt/c/Users/yingdingwang/Documents/VENV/gpt3.12wsl/lib/python3.12/site-packages/torch/_logging/_internal.py:736\u001b[0m, in \u001b[0;36m_update_log_state_from_env\u001b[0;34m()\u001b[0m\n\u001b[1;32m    734\u001b[0m log_setting \u001b[38;5;241m=\u001b[39m os\u001b[38;5;241m.\u001b[39menviron\u001b[38;5;241m.\u001b[39mget(LOG_ENV_VAR, \u001b[38;5;28;01mNone\u001b[39;00m)\n\u001b[1;32m    735\u001b[0m \u001b[38;5;28;01mif\u001b[39;00m log_setting \u001b[38;5;129;01mis\u001b[39;00m \u001b[38;5;129;01mnot\u001b[39;00m \u001b[38;5;28;01mNone\u001b[39;00m:\n\u001b[0;32m--> 736\u001b[0m     log_state \u001b[38;5;241m=\u001b[39m \u001b[43m_parse_log_settings\u001b[49m\u001b[43m(\u001b[49m\u001b[43mlog_setting\u001b[49m\u001b[43m)\u001b[49m\n",
      "File \u001b[0;32m/mnt/c/Users/yingdingwang/Documents/VENV/gpt3.12wsl/lib/python3.12/site-packages/torch/_logging/_internal.py:680\u001b[0m, in \u001b[0;36m_parse_log_settings\u001b[0;34m(settings)\u001b[0m\n\u001b[1;32m    678\u001b[0m     \u001b[38;5;28;01mraise\u001b[39;00m \u001b[38;5;167;01mValueError\u001b[39;00m(help_message(verbose\u001b[38;5;241m=\u001b[39m\u001b[38;5;28;01mTrue\u001b[39;00m))\n\u001b[1;32m    679\u001b[0m \u001b[38;5;28;01mif\u001b[39;00m \u001b[38;5;129;01mnot\u001b[39;00m _validate_settings(settings):\n\u001b[0;32m--> 680\u001b[0m     \u001b[38;5;28;01mraise\u001b[39;00m \u001b[38;5;167;01mValueError\u001b[39;00m(_invalid_settings_err_msg(settings))\n\u001b[1;32m    682\u001b[0m settings \u001b[38;5;241m=\u001b[39m re\u001b[38;5;241m.\u001b[39msub(\u001b[38;5;124mr\u001b[39m\u001b[38;5;124m\"\u001b[39m\u001b[38;5;124m\\\u001b[39m\u001b[38;5;124ms+\u001b[39m\u001b[38;5;124m\"\u001b[39m, \u001b[38;5;124m\"\u001b[39m\u001b[38;5;124m\"\u001b[39m, settings)\n\u001b[1;32m    683\u001b[0m log_names \u001b[38;5;241m=\u001b[39m settings\u001b[38;5;241m.\u001b[39msplit(\u001b[38;5;124m\"\u001b[39m\u001b[38;5;124m,\u001b[39m\u001b[38;5;124m\"\u001b[39m)\n",
      "\u001b[0;31mValueError\u001b[0m: \nInvalid log settings: \"help\", must be a comma separated list of fully\nqualified module names, registered log names or registered artifact names.\nFor more info on various settings, try TORCH_LOGS=\"help\"\nValid settings:\nall, dynamo, fake_tensor, aot, autograd, inductor, dynamic, torch, distributed, c10d, ddp, pp, fsdp, dtensor, onnx, export, ddp_graphs, sym_node, fusion, overlap, post_grad_graphs, cudagraph_static_inputs, cudagraphs, trace_call, graph_code, output_code, guards, aot_joint_graph, compiled_autograd, compiled_autograd_verbose, loop_ordering, graph_breaks, bytecode, recompiles, onnx_diagnostics, verbose_guards, kernel_code, not_implemented, aot_graphs_effects, aot_graphs, trace_bytecode, trace_shape_events, graph_sizes, trace_source, schedule, perf_hints, benchmarking, recompiles_verbose, custom_format_test_artifact, graph\n"
     ]
    }
   ],
   "source": [
    "from intel_npu_acceleration_library.backend import MatMul\n",
    "import numpy as np\n",
    "\n",
    "\n",
    "def run_matmul(inC, outC, batch):\n",
    "\n",
    "    # Create both inputs\n",
    "    X1 = np.random.uniform(-1, 1, (batch, inC)).astype(np.float16)\n",
    "    X2 = np.random.uniform(-1, 1, (outC, inC)).astype(np.float16)\n",
    "\n",
    "    mm = MatMul(inC, outC, batch, profile=False)\n",
    "\n",
    "    return mm.run(X1, X2)\n",
    "\n",
    "\n",
    "if __name__ == \"__main__\":\n",
    "    result = run_matmul(128, 128, 32)\n",
    "    print(result)"
   ]
  },
  {
   "cell_type": "code",
   "execution_count": null,
   "metadata": {},
   "outputs": [],
   "source": []
  }
 ],
 "metadata": {
  "kernelspec": {
   "display_name": "gpt3.12wsl",
   "language": "python",
   "name": "python3"
  },
  "language_info": {
   "codemirror_mode": {
    "name": "ipython",
    "version": 3
   },
   "file_extension": ".py",
   "mimetype": "text/x-python",
   "name": "python",
   "nbconvert_exporter": "python",
   "pygments_lexer": "ipython3",
   "version": "3.12.3"
  }
 },
 "nbformat": 4,
 "nbformat_minor": 2
}
