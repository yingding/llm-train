{
 "cells": [
  {
   "cell_type": "code",
   "execution_count": 4,
   "metadata": {},
   "outputs": [],
   "source": [
    "from matmul import MatMulConfig"
   ]
  },
  {
   "cell_type": "markdown",
   "metadata": {},
   "source": [
    "## Unindent on Windows \n",
    "`Shift + Tab`"
   ]
  },
  {
   "cell_type": "code",
   "execution_count": 5,
   "metadata": {},
   "outputs": [
    {
     "name": "stdout",
     "output_type": "stream",
     "text": [
      "====================\n",
      "executed: run_npu_matmul() python function\n",
      "walltime: 0.03927159309387207 in secs.\n",
      "====================\n",
      "[[ 0.04626  3.646    5.47    ...  9.79     3.441    2.016  ]\n",
      " [10.36    -2.686    0.3113  ... -1.6455  -0.519    0.02704]\n",
      " [-4.375   -2.56    -2.006   ...  1.7      3.79    -0.2295 ]\n",
      " ...\n",
      " [ 1.441   -2.646    0.6543  ...  1.884    3.486    5.305  ]\n",
      " [ 3.25     3.31     5.273   ... -3.568   -8.1     -0.4102 ]\n",
      " [-2.459   -3.154    0.02724 ...  6.543    3.885   -9.31   ]]\n",
      "==========\n",
      "====================\n",
      "executed: run_cpu_matmul() python function\n",
      "walltime: 0.0009999275207519531 in secs.\n",
      "====================\n",
      "[[ 0.04626  3.646    5.47    ...  9.79     3.441    2.016  ]\n",
      " [10.36    -2.686    0.3113  ... -1.6455  -0.519    0.02704]\n",
      " [-4.375   -2.56    -2.006   ...  1.7      3.79    -0.2295 ]\n",
      " ...\n",
      " [ 1.441   -2.646    0.6543  ...  1.884    3.486    5.305  ]\n",
      " [ 3.25     3.31     5.273   ... -3.568   -8.1     -0.4102 ]\n",
      " [-2.459   -3.154    0.02724 ...  6.543    3.885   -9.31   ]]\n"
     ]
    }
   ],
   "source": [
    "config = MatMulConfig(128, 128, 32)\n",
    "# run the npu matmul\n",
    "print(config.run_npu_matmul())\n",
    "print(\"=\"*10)\n",
    "# run the cpu matmul\n",
    "print(config.run_cpu_matmul())"
   ]
  },
  {
   "cell_type": "code",
   "execution_count": null,
   "metadata": {},
   "outputs": [],
   "source": []
  }
 ],
 "metadata": {
  "kernelspec": {
   "display_name": "gpt3.12",
   "language": "python",
   "name": "python3"
  },
  "language_info": {
   "codemirror_mode": {
    "name": "ipython",
    "version": 3
   },
   "file_extension": ".py",
   "mimetype": "text/x-python",
   "name": "python",
   "nbconvert_exporter": "python",
   "pygments_lexer": "ipython3",
   "version": "3.12.8"
  }
 },
 "nbformat": 4,
 "nbformat_minor": 2
}
