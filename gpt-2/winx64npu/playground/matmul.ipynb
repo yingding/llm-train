{
 "cells": [
  {
   "cell_type": "markdown",
   "metadata": {},
   "source": [
    "## Intro\n",
    "\n",
    "Unindent on Windows with `Shift + Tab`.\n",
    "Use the windows native kernel `gpt3.12` from dev host."
   ]
  },
  {
   "cell_type": "code",
   "execution_count": 5,
   "metadata": {},
   "outputs": [
    {
     "name": "stdout",
     "output_type": "stream",
     "text": [
      "['CPU', 'GPU', 'NPU']\n"
     ]
    }
   ],
   "source": [
    "from matmul import MatMulConfig\n",
    "from openvino import Core \n",
    "\n",
    "print(Core().available_devices)"
   ]
  },
  {
   "cell_type": "code",
   "execution_count": 6,
   "metadata": {},
   "outputs": [
    {
     "name": "stdout",
     "output_type": "stream",
     "text": [
      "====================\n",
      "executed: run_npu_matmul() python function\n",
      "walltime: 0.0348358154296875 in secs.\n",
      "====================\n",
      "[[ 1.661   -1.721   -3.531   ... -1.408   -0.05576  0.4119 ]\n",
      " [-0.948   -1.725   -0.6797  ...  1.209    2.68     2.898  ]\n",
      " [ 2.318   -7.24     3.387   ...  5.75    -1.224    1.414  ]\n",
      " ...\n",
      " [ 1.002   -2.41    -2.344   ... -1.195   -4.992   -0.932  ]\n",
      " [ 1.486   -3.64     0.811   ...  3.912    0.3206   4.465  ]\n",
      " [-2.385    5.285    4.516   ...  3.225   -4.957   -3.164  ]]\n",
      "====================\n",
      "executed: run_cpu_matmul() python function\n",
      "walltime: 0.003006458282470703 in secs.\n",
      "====================\n",
      "[[ 1.661   -1.721   -3.531   ... -1.408   -0.05576  0.4119 ]\n",
      " [-0.948   -1.725   -0.6797  ...  1.209    2.68     2.898  ]\n",
      " [ 2.318   -7.24     3.387   ...  5.75    -1.224    1.414  ]\n",
      " ...\n",
      " [ 1.002   -2.41    -2.344   ... -1.195   -4.992   -0.932  ]\n",
      " [ 1.486   -3.64     0.811   ...  3.912    0.3206   4.465  ]\n",
      " [-2.385    5.285    4.516   ...  3.225   -4.957   -3.164  ]]\n"
     ]
    }
   ],
   "source": [
    "config = MatMulConfig(128, 128, 32)\n",
    "# run the npu matmul\n",
    "print(config.run_npu_matmul())\n",
    "# run the cpu matmul\n",
    "print(config.run_cpu_matmul())"
   ]
  }
 ],
 "metadata": {
  "kernelspec": {
   "display_name": "gpt3.12",
   "language": "python",
   "name": "python3"
  },
  "language_info": {
   "codemirror_mode": {
    "name": "ipython",
    "version": 3
   },
   "file_extension": ".py",
   "mimetype": "text/x-python",
   "name": "python",
   "nbconvert_exporter": "python",
   "pygments_lexer": "ipython3",
   "version": "3.12.8"
  }
 },
 "nbformat": 4,
 "nbformat_minor": 2
}
