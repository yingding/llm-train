{
 "cells": [
  {
   "cell_type": "code",
   "execution_count": 1,
   "metadata": {},
   "outputs": [],
   "source": [
    "from matmul import MatMulConfig"
   ]
  },
  {
   "cell_type": "markdown",
   "metadata": {},
   "source": [
    "## Unindent on Windows \n",
    "`Shift + Tab`"
   ]
  },
  {
   "cell_type": "code",
   "execution_count": 2,
   "metadata": {},
   "outputs": [
    {
     "name": "stdout",
     "output_type": "stream",
     "text": [
      "====================\n",
      "executed: run_npu_matmul() python function\n",
      "walltime: 0.1119687557220459 in secs.\n",
      "====================\n",
      "[[-1.897  -8.45   -1.026  ... -5.152  -0.117   5.3   ]\n",
      " [ 0.4648  2.316   5.11   ... -4.555  -1.267  -6.918 ]\n",
      " [-0.7563  3.336   0.5923 ...  1.861  -1.179  -0.8228]\n",
      " ...\n",
      " [-1.688   6.203  -3.477  ...  5.793   0.4834 -0.374 ]\n",
      " [-9.68   -6.598   1.82   ... -2.357  -2.318  -0.1016]\n",
      " [ 3.768  -3.63    0.4119 ... -8.28    2.592   1.442 ]]\n",
      "==========\n",
      "====================\n",
      "executed: run_cpu_matmul() python function\n",
      "walltime: 0.0010006427764892578 in secs.\n",
      "====================\n",
      "[[-1.897  -8.45   -1.026  ... -5.152  -0.117   5.3   ]\n",
      " [ 0.4648  2.316   5.11   ... -4.555  -1.267  -6.918 ]\n",
      " [-0.7563  3.336   0.5923 ...  1.861  -1.179  -0.8228]\n",
      " ...\n",
      " [-1.688   6.203  -3.477  ...  5.793   0.4834 -0.374 ]\n",
      " [-9.68   -6.598   1.82   ... -2.357  -2.318  -0.1016]\n",
      " [ 3.768  -3.63    0.4119 ... -8.28    2.592   1.442 ]]\n"
     ]
    }
   ],
   "source": [
    "config = MatMulConfig(128, 128, 32)\n",
    "# run the npu matmul\n",
    "print(config.run_npu_matmul())\n",
    "print(\"=\"*10)\n",
    "# run the cpu matmul\n",
    "print(config.run_cpu_matmul())"
   ]
  }
 ],
 "metadata": {
  "kernelspec": {
   "display_name": "gpt3.12",
   "language": "python",
   "name": "python3"
  },
  "language_info": {
   "codemirror_mode": {
    "name": "ipython",
    "version": 3
   },
   "file_extension": ".py",
   "mimetype": "text/x-python",
   "name": "python",
   "nbconvert_exporter": "python",
   "pygments_lexer": "ipython3",
   "version": "3.12.8"
  }
 },
 "nbformat": 4,
 "nbformat_minor": 2
}
